{
 "cells": [
  {
   "cell_type": "code",
   "execution_count": 6,
   "id": "7b459821",
   "metadata": {},
   "outputs": [
    {
     "name": "stdout",
     "output_type": "stream",
     "text": [
      "Requirement already satisfied: pymysql in c:\\users\\lenovo\\anaconda3\\lib\\site-packages (1.0.2)\n",
      "Note: you may need to restart the kernel to use updated packages.\n"
     ]
    }
   ],
   "source": [
    "pip install pymysql"
   ]
  },
  {
   "cell_type": "code",
   "execution_count": 7,
   "id": "1f80d45a",
   "metadata": {},
   "outputs": [],
   "source": [
    "import pymysql"
   ]
  },
  {
   "cell_type": "code",
   "execution_count": 8,
   "id": "7242251e",
   "metadata": {},
   "outputs": [],
   "source": [
    "conn=pymysql.connect(host='localhost',user='root',password='sys/as sysdba',db='sakila')"
   ]
  },
  {
   "cell_type": "code",
   "execution_count": 9,
   "id": "508cd8d1",
   "metadata": {},
   "outputs": [
    {
     "name": "stdout",
     "output_type": "stream",
     "text": [
      "('classicmodels',)\n",
      "('information_schema',)\n",
      "('mavenmovies',)\n",
      "('moviedb',)\n",
      "('mysql',)\n",
      "('performance_schema',)\n",
      "('rdbms',)\n",
      "('sai_list',)\n",
      "('sakila',)\n",
      "('saradhi',)\n",
      "('sys',)\n",
      "('test',)\n",
      "('world',)\n",
      "<pymysql.cursors.Cursor object at 0x00000170FC966C10>\n"
     ]
    }
   ],
   "source": [
    "cur=conn.cursor()\n",
    "cur.execute(\"show databases\")\n",
    "for i in cur:\n",
    "    print(i)\n",
    "print(cur)"
   ]
  },
  {
   "cell_type": "code",
   "execution_count": 12,
   "id": "22d36fe5",
   "metadata": {},
   "outputs": [],
   "source": [
    "#import pymysql\n",
    "#conn=pymysql.connect(host='localhost',user='root',password='sys/as sysdba')\n",
    "#cur=conn.cursor()\n",
    "#cur.execute(\"create database saradhi\")\n",
    "#conn.close()"
   ]
  },
  {
   "cell_type": "code",
   "execution_count": null,
   "id": "074a0695",
   "metadata": {},
   "outputs": [],
   "source": [
    "import pymysql\n",
    "conn=pymysql.connect(host='localhost',user='root',password='sys/as sysdba',database=\"saradhi\")\n",
    "cur=conn.cursor()\n",
    "cur.execute(\"create table student(rollno int not null primary key,sname varchar(20)not null,branch varchar(10)not null)\")\n",
    "cur.close()"
   ]
  },
  {
   "cell_type": "code",
   "execution_count": null,
   "id": "3934f9e8",
   "metadata": {},
   "outputs": [],
   "source": [
    "import pymysql\n",
    "conn=pymysql.connect(host='localhost',user='root',password='sys/as sysdba',database=\"saradhi\")\n",
    "cur=conn.cursor()\n",
    "q=\"insert into student(rollno,sname,branch)values(%s,%s,%s)\"\n",
    "v=(501,\"abhiram\",\"cse\")\n",
    "try:\n",
    "   cur.execute(q,v)\n",
    "   conn.commit()\n",
    "except:\n",
    "    conn.rollback\n",
    "    \n",
    "cur.close()"
   ]
  },
  {
   "cell_type": "code",
   "execution_count": null,
   "id": "c30f885c",
   "metadata": {},
   "outputs": [],
   "source": [
    "import pymysql\n",
    "conn=pymysql.connect(host='localhost',user='root',password='sys/as sysdba',database=\"saradhi\")\n",
    "cur=conn.cursor()\n",
    "q=\"insert into student(rollno,sname,branch)values(%s,%s,%s)\"\n",
    "v=[(502,\"srinidhi\",\"cse\"),(503,\"anvesh\",\"ece\"),(504,\"srinish\",\"eee\")]\n",
    "try:\n",
    "   cur.executemany(q,v)\n",
    "   conn.commit()\n",
    "except:\n",
    "    conn.rollback\n",
    "    \n",
    "conn.close()"
   ]
  },
  {
   "cell_type": "code",
   "execution_count": null,
   "id": "1659e4a6",
   "metadata": {},
   "outputs": [],
   "source": [
    "import pymysql\n",
    "conn=pymysql.connect(host='localhost',user='root',password='sys/as sysdba',database=\"saradhi\")\n",
    "cur=conn.cursor()\n",
    "q=\"insert into student(rollno,sname,branch)values(%s,%s,%s)\"\n",
    "v=[(505,\"ramesh\",\"cse\"),(506,\"rajesh\",\"ece\")]\n",
    "try:\n",
    "   cur.executemany(q,v)\n",
    "   conn.commit()\n",
    "except:\n",
    "    conn.rollback\n",
    "    \n",
    "cur.close()"
   ]
  },
  {
   "cell_type": "code",
   "execution_count": 13,
   "id": "c73e847e",
   "metadata": {},
   "outputs": [],
   "source": [
    "import pymysql\n",
    "conn=pymysql.connect(host='localhost',user='root',password='sys/as sysdba',database=\"saradhi\")\n",
    "cur=conn.cursor()\n",
    "q=\"alter table student add column section varchar(3)\"\n",
    "cur.execute(q)\n",
    "    \n",
    "cur.close()"
   ]
  },
  {
   "cell_type": "code",
   "execution_count": null,
   "id": "f187aed0",
   "metadata": {},
   "outputs": [],
   "source": [
    "import pymysql\n",
    "conn=pymysql.connect(host='localhost',user='root',password='sys/as sysdba',database=\"saradhi\")\n",
    "cur=conn.cursor()\n",
    "cur.execute(\"alter table student drop  column section \")\n",
    "conn.comit\n",
    "cur.close()"
   ]
  },
  {
   "cell_type": "code",
   "execution_count": 1,
   "id": "681ad156",
   "metadata": {},
   "outputs": [],
   "source": [
    "import pymysql\n",
    "conn=pymysql.connect(host='localhost',user='root',password='sys/as sysdba',database=\"saradhi\")\n",
    "cur=conn.cursor()\n",
    "q=\"alter table student add column section varchar(3) default 'A'\"\n",
    "cur.execute(q)\n",
    "    \n",
    "cur.close()"
   ]
  },
  {
   "cell_type": "code",
   "execution_count": 8,
   "id": "aa6468a8",
   "metadata": {},
   "outputs": [],
   "source": [
    "import pymysql\n",
    "conn=pymysql.connect(host='localhost',user='root',password='sys/as sysdba',database=\"saradhi\")\n",
    "cur=conn.cursor()\n",
    "q=\"update  student set branch='ECE' where rollno =502\"\n",
    "cur.execute(q)\n",
    "conn.commit()\n",
    "cur.close()"
   ]
  },
  {
   "cell_type": "code",
   "execution_count": 9,
   "id": "6f980163",
   "metadata": {},
   "outputs": [],
   "source": [
    "import pymysql\n",
    "conn=pymysql.connect(host='localhost',user='root',password='sys/as sysdba',database=\"saradhi\")\n",
    "cur=conn.cursor()\n",
    "q=\"update  student set section='C' where rollno =502\"\n",
    "cur.execute(q)\n",
    "conn.commit()\n",
    "cur.close()"
   ]
  },
  {
   "cell_type": "code",
   "execution_count": 10,
   "id": "58ec7142",
   "metadata": {},
   "outputs": [],
   "source": [
    "import pymysql\n",
    "conn=pymysql.connect(host='localhost',user='root',password='sys/as sysdba',database=\"saradhi\")\n",
    "cur=conn.cursor()\n",
    "q=\"delete from student where section ='c'\"\n",
    "cur.execute(q)\n",
    "conn.commit()\n",
    "cur.close()"
   ]
  },
  {
   "cell_type": "code",
   "execution_count": null,
   "id": "ed12fd37",
   "metadata": {},
   "outputs": [],
   "source": [
    "import pymysql\n",
    "conn=pymysql.connect(host='localhost',user='root',password='sys/as sysdba',database='saradhi')\n",
    "cur=conn.cursor()\n",
    "q=\"alter table student drop column section\"\n",
    "cur.execute(q)\n",
    "conn.commit()\n",
    "cur.close()"
   ]
  },
  {
   "cell_type": "code",
   "execution_count": null,
   "id": "5c4640ea",
   "metadata": {},
   "outputs": [],
   "source": []
  },
  {
   "cell_type": "code",
   "execution_count": null,
   "id": "5e4346b0",
   "metadata": {},
   "outputs": [],
   "source": []
  }
 ],
 "metadata": {
  "kernelspec": {
   "display_name": "Python 3 (ipykernel)",
   "language": "python",
   "name": "python3"
  },
  "language_info": {
   "codemirror_mode": {
    "name": "ipython",
    "version": 3
   },
   "file_extension": ".py",
   "mimetype": "text/x-python",
   "name": "python",
   "nbconvert_exporter": "python",
   "pygments_lexer": "ipython3",
   "version": "3.9.7"
  }
 },
 "nbformat": 4,
 "nbformat_minor": 5
}
